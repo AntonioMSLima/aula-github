{
  "nbformat": 4,
  "nbformat_minor": 0,
  "metadata": {
    "colab": {
      "provenance": [],
      "authorship_tag": "ABX9TyOOB7jjs5CrHDsmQXre9wsJ",
      "include_colab_link": true
    },
    "kernelspec": {
      "name": "python3",
      "display_name": "Python 3"
    },
    "language_info": {
      "name": "python"
    }
  },
  "cells": [
    {
      "cell_type": "markdown",
      "metadata": {
        "id": "view-in-github",
        "colab_type": "text"
      },
      "source": [
        "<a href=\"https://colab.research.google.com/github/AntonioMSLima/aula-github/blob/master/Estrutura%20de%20repeti%C3%A7%C3%A3o.ipynb\" target=\"_parent\"><img src=\"https://colab.research.google.com/assets/colab-badge.svg\" alt=\"Open In Colab\"/></a>"
      ]
    },
    {
      "cell_type": "code",
      "source": [
        "#Escreva um código que imprima todos os números, a partir de 20, em uma ordem decrescente, exceto o número 13.\n",
        "for i in range(20, 0, -1):\n",
        "  if i == 13:\n",
        "    continue\n",
        "  print(i)\n",
        "\n",
        "#Escreva um código que imprima todos os números, a partir de 20, em uma ordem decrescente.\n",
        "\n",
        "\n",
        "x = 20\n",
        "while x >= 1:\n",
        "    print(x)\n",
        "    x = x-1\n",
        "\n",
        "#Escreva um código que imprima todos os números, a partir de 20, em uma ordem crescente.\n",
        "for j in range(1,21,1):\n",
        "  print(j)\n",
        "\n",
        "\n"
      ],
      "metadata": {
        "id": "dkXq9Dvckklc",
        "outputId": "f8a0f16f-2e7d-41ac-ab4d-e7ffeb428265",
        "colab": {
          "base_uri": "https://localhost:8080/"
        }
      },
      "execution_count": 3,
      "outputs": [
        {
          "output_type": "stream",
          "name": "stdout",
          "text": [
            "20\n",
            "19\n",
            "18\n",
            "17\n",
            "16\n",
            "15\n",
            "14\n",
            "12\n",
            "11\n",
            "10\n",
            "9\n",
            "8\n",
            "7\n",
            "6\n",
            "5\n",
            "4\n",
            "3\n",
            "2\n",
            "1\n",
            "20\n",
            "19\n",
            "18\n",
            "17\n",
            "16\n",
            "15\n",
            "14\n",
            "13\n",
            "12\n",
            "11\n",
            "10\n",
            "9\n",
            "8\n",
            "7\n",
            "6\n",
            "5\n",
            "4\n",
            "3\n",
            "2\n",
            "1\n",
            "1\n",
            "2\n",
            "3\n",
            "4\n",
            "5\n",
            "6\n",
            "7\n",
            "8\n",
            "9\n",
            "10\n",
            "11\n",
            "12\n",
            "13\n",
            "14\n",
            "15\n",
            "16\n",
            "17\n",
            "18\n",
            "19\n",
            "20\n"
          ]
        }
      ]
    }
  ]
}