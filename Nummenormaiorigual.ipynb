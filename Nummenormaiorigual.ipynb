{
  "nbformat": 4,
  "nbformat_minor": 0,
  "metadata": {
    "colab": {
      "provenance": [],
      "authorship_tag": "ABX9TyPaVqJszhgBUtQeiiwisq1s",
      "include_colab_link": true
    },
    "kernelspec": {
      "name": "python3",
      "display_name": "Python 3"
    },
    "language_info": {
      "name": "python"
    }
  },
  "cells": [
    {
      "cell_type": "markdown",
      "metadata": {
        "id": "view-in-github",
        "colab_type": "text"
      },
      "source": [
        "<a href=\"https://colab.research.google.com/github/AntonioMSLima/aula-github/blob/master/Nummenormaiorigual.ipynb\" target=\"_parent\"><img src=\"https://colab.research.google.com/assets/colab-badge.svg\" alt=\"Open In Colab\"/></a>"
      ]
    },
    {
      "cell_type": "code",
      "execution_count": 7,
      "metadata": {
        "colab": {
          "base_uri": "https://localhost:8080/"
        },
        "id": "VslCRM9voVNR",
        "outputId": "63782d90-1138-4b87-f8b7-e57639cb66c3"
      },
      "outputs": [
        {
          "name": "stdout",
          "output_type": "stream",
          "text": [
            "Digite um número maior ou igual a 100: 1\n"
          ]
        }
      ],
      "source": [
        "#Solicite ao usuário para digitar um número menor ou igual a 100:\n",
        "num = int(input(\"Digite um número maior ou igual a 100: \"))\n",
        "#Enquanto o número  for maior que 100, informe erro e solicite para digitar outra vez:\n",
        "while num > 100:\n",
        "  print(\"O número é maior que 100. Tente outra vez!\")\n",
        "  num = int(input(\"Digite um número menor ou igual a 100: \"))\n",
        "  print(\"Parabéns pela escolha!\")\n",
        "  if num==100:\n",
        "    print(\"O número é igual a 100.\")\n",
        "  else:\n",
        "    print(\"O número é menor que 100.\")\n"
      ]
    }
  ]
}